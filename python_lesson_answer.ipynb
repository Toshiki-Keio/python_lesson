{
 "cells": [
  {
   "cell_type": "code",
   "execution_count": 1,
   "metadata": {},
   "outputs": [
    {
     "name": "stdout",
     "output_type": "stream",
     "text": [
      "これは北海道です．\n",
      "これは秋田です．\n",
      "これは東京です．\n",
      "これは秋田です．\n",
      "これは栃木です．\n",
      "[1, 2, 3, 4, 5, 6, 7, 8, 9, 10, 11, 12, 13, 14, 15, 16, 17, 18, 19, 20, 21, 22, 23, 24, 25, 26, 27, 28, 29, 30, 31, 32, 33, 34, 35, 36, 37, 38, 39, 40, 41, 42, 43, 44, 45, 46, 47, 48, 49, 50, 51, 52, 53, 54, 55, 56, 57, 58, 59, 60, 61, 62, 63, 64, 65, 66, 67, 68, 69, 70, 71, 72, 73, 74, 75, 76, 77, 78, 79, 80, 81, 82, 83, 84, 85, 86, 87, 88, 89, 90, 91, 92, 93, 94, 95, 96, 97, 98, 99, 100, '北海道', '秋田', '東京', '栃木']\n"
     ]
    }
   ],
   "source": [
    "#チャレンジ1　解答例\n",
    "\n",
    "#初期値\n",
    "state = 0\n",
    "var=0\n",
    "pref_list = [\"北海道\",\"秋田\",\"東京\",\"秋田\", \"栃木\"]\n",
    "output_list = []\n",
    "\n",
    "while True:\n",
    "    if state == 0:\n",
    "        var+=1\n",
    "        output_list.append(var)\n",
    "        if var>=100:\n",
    "            state = 1\n",
    "    elif state == 1:\n",
    "        for prefecture in pref_list:\n",
    "            print(\"これは{}です．\".format(prefecture))\n",
    "            if prefecture not in output_list:\n",
    "                output_list.append(prefecture)\n",
    "        state = 2\n",
    "    elif state == 2:  \n",
    "        break\n",
    "        \n",
    "print(output_list)"
   ]
  },
  {
   "cell_type": "code",
   "execution_count": 2,
   "metadata": {},
   "outputs": [
    {
     "name": "stdout",
     "output_type": "stream",
     "text": [
      "570\n"
     ]
    }
   ],
   "source": [
    "#チャレンジ2 回答例\n",
    "def sum_function(pref_dict):\n",
    "    sum_value = 0\n",
    "    for prefecture,value in pref_dict.items():\n",
    "        if prefecture ==  \"栃木\" or prefecture ==\"愛知\":\n",
    "            pass\n",
    "        elif prefecture ==  \"山梨\" or prefecture ==\"大阪\":\n",
    "            sum_value+=value*2\n",
    "        else:\n",
    "            if value > 50:\n",
    "                sum_value+=value\n",
    "    return sum_value\n",
    " \n",
    "pref_dict={\"北海道\":10, \"秋田\":40, \"栃木\":20, \"東京\":30, \"山梨\":50, \"愛知\":100, \"大阪\":200, \"広島\":0, \"福岡\":70, \"沖縄\":50}\n",
    "print(sum_function(pref_dict))"
   ]
  },
  {
   "cell_type": "code",
   "execution_count": 5,
   "metadata": {},
   "outputs": [
    {
     "name": "stdout",
     "output_type": "stream",
     "text": [
      "------------------モータ設定------------------\n",
      "pin1は20番です．\n",
      "pin2は20番です．\n",
      "電圧の参照値は50Hzです．\n",
      "\n",
      "GPS取得値： [30, 135]\n",
      "加速度値： [0.1, 0.1, 0.1]\n",
      "モータ入力： 0\n",
      "GPS取得値： [30, 135]\n",
      "加速度値： [0.2, 0.2, 0.2]\n",
      "モータ入力： 10\n",
      "GPS取得値： [30, 135]\n",
      "加速度値： [0.30000000000000004, 0.30000000000000004, 0.30000000000000004]\n",
      "モータ入力： 20\n",
      "GPS取得値： [30, 135]\n",
      "加速度値： [0.4, 0.4, 0.4]\n",
      "モータ入力： 60\n",
      "GPS取得値： [30, 135]\n",
      "加速度値： [0.5, 0.5, 0.5]\n",
      "モータ入力： 80\n",
      "GPS取得値： [30, 135]\n",
      "加速度値： [0.6, 0.6, 0.6]\n",
      "モータ入力： 100\n",
      "GPS取得値： [30, 135]\n",
      "加速度値： [0.7, 0.7, 0.7]\n",
      "北海道がエラー要因だよ\n"
     ]
    },
    {
     "name": "stderr",
     "output_type": "stream",
     "text": [
      "Traceback (most recent call last):\n",
      "  File \"<ipython-input-5-407e4e4a8c38>\", line 66, in <module>\n",
      "    print(\"モータ入力：\", motor.velocity(duty))\n",
      "  File \"<ipython-input-5-407e4e4a8c38>\", line 38, in velocity\n",
      "    if duty > 100:\n",
      "TypeError: '>' not supported between instances of 'str' and 'int'\n"
     ]
    },
    {
     "name": "stdout",
     "output_type": "stream",
     "text": [
      "GPS取得値： [30, 135]\n",
      "加速度値： [0.7999999999999999, 0.7999999999999999, 0.7999999999999999]\n",
      "モータ入力： 30\n",
      "GPS取得値： [30, 135]\n",
      "加速度値： [0.8999999999999999, 0.8999999999999999, 0.8999999999999999]\n",
      "モータ入力： 10\n",
      "Finished\n"
     ]
    }
   ],
   "source": [
    "#チャレンジ3 回答例\n",
    "#クラス定義\n",
    "class GPS:\n",
    "    def __init__(self):\n",
    "        self.Lat = 0\n",
    "        self.Lng = 0\n",
    "    def rungps(self,lat,lng):\n",
    "        self.Lat = lat\n",
    "        self.Lng = lng\n",
    "        return [self.Lat, self.Lng]\n",
    "\n",
    "class BNO055:\n",
    "    def __init__(self):\n",
    "        self.Ax = 0.0\n",
    "        self.Ay = 0.0\n",
    "        self.Az = 0.0\n",
    "    def getbno(self, Ax,Ay,Az):\n",
    "        self.Ax += Ax\n",
    "        self.Ay += Ay\n",
    "        self.Az += Az\n",
    "        return [self.Ax, self.Ay, self.Az]\n",
    "    \n",
    "class Motor:\n",
    "    def __init__(self,pin1,pin2,vref):\n",
    "        self.pin1 = pin1\n",
    "        self.pin2 = pin2\n",
    "        self.vref = vref\n",
    "        self.print_motor()\n",
    "        \n",
    "    def print_motor(self):\n",
    "        print(\"------------------モータ設定------------------\")\n",
    "        print(\"pin1は{}番です．\".format(self.pin1))\n",
    "        print(\"pin2は{}番です．\".format(self.pin2))\n",
    "        print(\"電圧の参照値は{}Hzです．\".format(self.vref))\n",
    "        print()\n",
    "    \n",
    "    def velocity(self,duty):\n",
    "        if duty > 100:\n",
    "            duty = 100\n",
    "        elif duty < 0:\n",
    "            duty = 0\n",
    "        else:\n",
    "            pass\n",
    "        return duty\n",
    "\n",
    "#実行文\n",
    "import time\n",
    "import traceback\n",
    "\n",
    "#インスタンス生成\n",
    "gps = GPS()\n",
    "bno = BNO055()\n",
    "motor = Motor(20,20,50)\n",
    "\n",
    "#GPS\n",
    "Lat = 30\n",
    "Lng = 135\n",
    "\n",
    "duty_list = [0, 10, 20, 60, 80, 100, \"北海道\",30,10]\n",
    "\n",
    "while True:\n",
    "        for duty in duty_list:\n",
    "            try:\n",
    "                print(\"GPS取得値：\",gps.rungps(Lat,Lng))\n",
    "                print(\"加速度値：\", bno.getbno(0.1,0.1,0.1))\n",
    "                print(\"モータ入力：\", motor.velocity(duty))\n",
    "            except:\n",
    "                print(\"{}がエラー要因だよ\".format(duty))\n",
    "                traceback.print_exc()\n",
    "                pass\n",
    "            time.sleep(1)\n",
    "        print(\"Finished\")\n",
    "        break"
   ]
  },
  {
   "cell_type": "code",
   "execution_count": null,
   "metadata": {},
   "outputs": [],
   "source": []
  },
  {
   "cell_type": "code",
   "execution_count": null,
   "metadata": {},
   "outputs": [],
   "source": []
  }
 ],
 "metadata": {
  "kernelspec": {
   "display_name": "Python 3",
   "language": "python",
   "name": "python3"
  },
  "language_info": {
   "codemirror_mode": {
    "name": "ipython",
    "version": 3
   },
   "file_extension": ".py",
   "mimetype": "text/x-python",
   "name": "python",
   "nbconvert_exporter": "python",
   "pygments_lexer": "ipython3",
   "version": "3.8.5"
  }
 },
 "nbformat": 4,
 "nbformat_minor": 4
}
